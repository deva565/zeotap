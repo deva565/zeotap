{
 "cells": [
  {
   "cell_type": "code",
   "execution_count": 28,
   "id": "00bd14a9-5ffd-4dba-b2f9-81566d79c329",
   "metadata": {},
   "outputs": [],
   "source": [
    "import pandas as pd\n",
    "from sklearn.metrics.pairwise import cosine_similarity\n",
    "from sklearn.preprocessing import StandardScaler\n",
    "\n",
    "# Load datasets\n",
    "customers = pd.read_csv('Customers.csv')\n",
    "products = pd.read_csv('Products.csv')\n",
    "transactions = pd.read_csv('Transactions.csv')"
   ]
  },
  {
   "cell_type": "code",
   "execution_count": 29,
   "id": "91ba3569-9fb9-418c-997a-f84e3ac5d4bd",
   "metadata": {},
   "outputs": [],
   "source": [
    "# Merge transactions with product data\n",
    "transactions = transactions.merge(products, on=\"ProductID\", how=\"left\")\n",
    "\n",
    "# Aggregate transaction data for each customer\n",
    "customer_transactions = transactions.groupby(\"CustomerID\").agg(\n",
    "    total_spent=(\"TotalValue\", \"sum\"),\n",
    "    num_transactions=(\"TransactionID\", \"count\"),\n",
    "    favorite_category=(\"Category\", lambda x: x.mode()[0] if not x.mode().empty else \"Unknown\")\n",
    ").reset_index()\n"
   ]
  },
  {
   "cell_type": "code",
   "execution_count": 30,
   "id": "35df7f01-2c31-4105-9a86-79f67f20f230",
   "metadata": {},
   "outputs": [],
   "source": [
    "# Merge with customer data\n",
    "customer_profiles = customers.merge(customer_transactions, on=\"CustomerID\", how=\"left\").fillna({\n",
    "    'total_spent': 0,\n",
    "    'num_transactions': 0,\n",
    "    'favorite_category': 'Unknown'\n",
    "})\n",
    "\n",
    "# Encode categorical features (favorite category, Region, etc.)\n",
    "customer_profiles = pd.get_dummies(customer_profiles, columns=[\"favorite_category\", \"Region\"], drop_first=True)\n"
   ]
  },
  {
   "cell_type": "code",
   "execution_count": 31,
   "id": "668ff920-17df-4576-9007-42ec2e06094a",
   "metadata": {},
   "outputs": [],
   "source": [
    "# Extract relevant features for similarity calculation\n",
    "feature_columns = ['total_spent', 'num_transactions'] + \\\n",
    "                  [col for col in customer_profiles.columns if col.startswith(\"favorite_category_\") or col.startswith(\"Region_\")]\n",
    "features = customer_profiles[feature_columns]\n",
    "\n",
    "# Standardize the features\n",
    "scaler = StandardScaler()\n",
    "features_scaled = scaler.fit_transform(features)"
   ]
  },
  {
   "cell_type": "code",
   "execution_count": 32,
   "id": "7e876fc6-5db1-496b-842b-1327088d3707",
   "metadata": {},
   "outputs": [],
   "source": [
    "# Compute cosine similarity matrix\n",
    "similarity_matrix = cosine_similarity(features_scaled)\n",
    "\n",
    "# Get Customer IDs\n",
    "customer_ids = customer_profiles['CustomerID'].tolist()\n"
   ]
  },
  {
   "cell_type": "code",
   "execution_count": 33,
   "id": "d5e71948-fa4b-45b0-a3fe-c5b7a71a72a8",
   "metadata": {},
   "outputs": [],
   "source": [
    "# Generate lookalike recommendations for the first 20 customers\n",
    "lookalike_data = {}\n",
    "for i in range(20):  # First 20 customers\n",
    "    customer_id = customer_ids[i]\n",
    "    similarity_scores = list(enumerate(similarity_matrix[i]))\n",
    "    similarity_scores = sorted(similarity_scores, key=lambda x: x[1], reverse=True)  # Sort by similarity score\n",
    "    top_lookalikes = [\n",
    "        (customer_ids[idx], round(score, 4))\n",
    "        for idx, score in similarity_scores[1:4]  # Exclude the customer themselves\n",
    "    ]\n",
    "    lookalike_data[customer_id] = top_lookalikes\n"
   ]
  },
  {
   "cell_type": "code",
   "execution_count": 34,
   "id": "148c1002-750e-4a41-85d9-7460876d0d03",
   "metadata": {
    "scrolled": true
   },
   "outputs": [
    {
     "name": "stdout",
     "output_type": "stream",
     "text": [
      "  CustomerID                                     Top_Lookalikes\n",
      "0      C0001  [('C0190', 0.9971), ('C0048', 0.9948), ('C0181...\n",
      "1      C0002  [('C0088', 0.9812), ('C0092', 0.9671), ('C0134...\n",
      "2      C0003  [('C0052', 0.999), ('C0031', 0.9908), ('C0076'...\n",
      "3      C0004  [('C0155', 0.9869), ('C0165', 0.977), ('C0087'...\n",
      "4      C0005  [('C0186', 0.9985), ('C0007', 0.9934), ('C0140...\n"
     ]
    }
   ],
   "source": [
    "# Save the results to Lookalike.csv\n",
    "lookalike_output = pd.DataFrame({\n",
    "    \"CustomerID\": lookalike_data.keys(),\n",
    "    \"Top_Lookalikes\": [str(value) for value in lookalike_data.values()]\n",
    "})\n",
    "lookalike_output.to_csv(\"Devaannamalai_R_Lookalike.csv\", index=False)\n",
    "\n",
    "# Print sample output\n",
    "print(lookalike_output.head())\n"
   ]
  },
  {
   "cell_type": "code",
   "execution_count": null,
   "id": "6d9459fa-7ae1-4632-b57a-92a3f0a7ad95",
   "metadata": {},
   "outputs": [],
   "source": []
  },
  {
   "cell_type": "code",
   "execution_count": null,
   "id": "9ce7d7a2-eb73-4f99-a036-2c6bdd6fda1b",
   "metadata": {},
   "outputs": [],
   "source": []
  },
  {
   "cell_type": "code",
   "execution_count": null,
   "id": "b56c6dbd-79e6-4f35-b52b-f5c191e3b530",
   "metadata": {},
   "outputs": [],
   "source": []
  }
 ],
 "metadata": {
  "kernelspec": {
   "display_name": "Python 3 (ipykernel)",
   "language": "python",
   "name": "python3"
  },
  "language_info": {
   "codemirror_mode": {
    "name": "ipython",
    "version": 3
   },
   "file_extension": ".py",
   "mimetype": "text/x-python",
   "name": "python",
   "nbconvert_exporter": "python",
   "pygments_lexer": "ipython3",
   "version": "3.12.4"
  }
 },
 "nbformat": 4,
 "nbformat_minor": 5
}
